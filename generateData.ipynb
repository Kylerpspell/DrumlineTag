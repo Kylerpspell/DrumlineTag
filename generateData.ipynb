{
 "cells": [
  {
   "cell_type": "code",
   "execution_count": 2,
   "metadata": {},
   "outputs": [],
   "source": [
    "import random"
   ]
  },
  {
   "cell_type": "code",
   "execution_count": 8,
   "metadata": {},
   "outputs": [],
   "source": [
    "samplefNames = [\"Jim\", \"Bob\", \"Alice\", \"John\", \"Jane\", \"Mary\", \"Tom\", \"Sue\", \"Bill\", \"Joe\"]\n",
    "\n",
    "samplelNames = [\"Smith\", \"Jones\", \"Williams\", \"Brown\", \"Davis\", \"Miller\", \"Wilson\", \"Moore\", \"Taylor\", \"Anderson\"]\n",
    "\n",
    "years = [\"2023\",\"2024\",\"2025\",\"2026\"]\n",
    "\n",
    "sections = [\"Snares\", \"Tenors\", \"Basses\", \"Cymbals\"]\n",
    "\n",
    "# Create a list of 30 random people with random years and sections\n",
    "people = []\n",
    "for i in range(30):\n",
    "    person = {}\n",
    "    person[\"drummer\"] = random.choice(samplefNames) + \" \" + random.choice(samplelNames)\n",
    "    person[\"year\"] = random.choice(years)\n",
    "    person[\"section\"] = random.choice(sections)\n",
    "    person[\"numTags\"] = random.randint(0, 30)\n",
    "    person[\"numtagged\"] = random.randint(0, 30)\n",
    "    people.append(person)"
   ]
  },
  {
   "cell_type": "code",
   "execution_count": 9,
   "metadata": {},
   "outputs": [
    {
     "name": "stdout",
     "output_type": "stream",
     "text": [
      "[{'drummer': 'Alice Williams', 'year': '2024', 'section': 'Snares', 'numTags': 22, 'numtagged': 26}, {'drummer': 'Tom Jones', 'year': '2023', 'section': 'Tenors', 'numTags': 8, 'numtagged': 19}, {'drummer': 'Alice Miller', 'year': '2024', 'section': 'Snares', 'numTags': 5, 'numtagged': 9}, {'drummer': 'John Moore', 'year': '2023', 'section': 'Cymbals', 'numTags': 15, 'numtagged': 19}, {'drummer': 'Bob Brown', 'year': '2025', 'section': 'Cymbals', 'numTags': 7, 'numtagged': 23}, {'drummer': 'Jim Miller', 'year': '2024', 'section': 'Basses', 'numTags': 3, 'numtagged': 6}, {'drummer': 'John Wilson', 'year': '2024', 'section': 'Snares', 'numTags': 3, 'numtagged': 21}, {'drummer': 'Bill Jones', 'year': '2025', 'section': 'Snares', 'numTags': 10, 'numtagged': 17}, {'drummer': 'Bill Smith', 'year': '2025', 'section': 'Cymbals', 'numTags': 22, 'numtagged': 5}, {'drummer': 'Sue Smith', 'year': '2024', 'section': 'Cymbals', 'numTags': 19, 'numtagged': 17}, {'drummer': 'Jane Smith', 'year': '2025', 'section': 'Tenors', 'numTags': 8, 'numtagged': 19}, {'drummer': 'John Wilson', 'year': '2025', 'section': 'Snares', 'numTags': 29, 'numtagged': 30}, {'drummer': 'Jim Moore', 'year': '2023', 'section': 'Tenors', 'numTags': 12, 'numtagged': 7}, {'drummer': 'Jane Anderson', 'year': '2026', 'section': 'Tenors', 'numTags': 29, 'numtagged': 16}, {'drummer': 'Jane Williams', 'year': '2023', 'section': 'Basses', 'numTags': 17, 'numtagged': 6}, {'drummer': 'Joe Jones', 'year': '2025', 'section': 'Snares', 'numTags': 2, 'numtagged': 11}, {'drummer': 'Jane Wilson', 'year': '2026', 'section': 'Cymbals', 'numTags': 1, 'numtagged': 2}, {'drummer': 'Jim Smith', 'year': '2024', 'section': 'Snares', 'numTags': 28, 'numtagged': 4}, {'drummer': 'Sue Moore', 'year': '2024', 'section': 'Basses', 'numTags': 2, 'numtagged': 0}, {'drummer': 'Jim Jones', 'year': '2023', 'section': 'Tenors', 'numTags': 20, 'numtagged': 9}, {'drummer': 'Jane Taylor', 'year': '2024', 'section': 'Cymbals', 'numTags': 21, 'numtagged': 4}, {'drummer': 'Sue Taylor', 'year': '2026', 'section': 'Tenors', 'numTags': 6, 'numtagged': 19}, {'drummer': 'Alice Miller', 'year': '2025', 'section': 'Snares', 'numTags': 6, 'numtagged': 1}, {'drummer': 'Joe Jones', 'year': '2024', 'section': 'Snares', 'numTags': 26, 'numtagged': 23}, {'drummer': 'Bob Anderson', 'year': '2025', 'section': 'Cymbals', 'numTags': 7, 'numtagged': 13}, {'drummer': 'Mary Williams', 'year': '2025', 'section': 'Basses', 'numTags': 13, 'numtagged': 17}, {'drummer': 'Sue Anderson', 'year': '2026', 'section': 'Tenors', 'numTags': 14, 'numtagged': 22}, {'drummer': 'Jane Moore', 'year': '2023', 'section': 'Tenors', 'numTags': 9, 'numtagged': 19}, {'drummer': 'Jim Jones', 'year': '2024', 'section': 'Tenors', 'numTags': 29, 'numtagged': 17}, {'drummer': 'John Miller', 'year': '2026', 'section': 'Cymbals', 'numTags': 6, 'numtagged': 11}]\n"
     ]
    }
   ],
   "source": [
    "for drummer in people:\n",
    "\t"
   ]
  },
  {
   "cell_type": "code",
   "execution_count": 5,
   "metadata": {},
   "outputs": [],
   "source": [
    "import json"
   ]
  },
  {
   "cell_type": "code",
   "execution_count": 7,
   "metadata": {},
   "outputs": [
    {
     "data": {
      "text/plain": [
       "'[{\"firstName\": \"John\", \"lastName\": \"Davis\", \"year\": \"2023\", \"section\": \"Basses\", \"tags\": 21, \"tagged\": 27}, {\"firstName\": \"Sue\", \"lastName\": \"Miller\", \"year\": \"2024\", \"section\": \"Cymbals\", \"tags\": 10, \"tagged\": 10}, {\"firstName\": \"Bill\", \"lastName\": \"Davis\", \"year\": \"2026\", \"section\": \"Cymbals\", \"tags\": 30, \"tagged\": 11}, {\"firstName\": \"Mary\", \"lastName\": \"Brown\", \"year\": \"2026\", \"section\": \"Tenors\", \"tags\": 5, \"tagged\": 20}, {\"firstName\": \"John\", \"lastName\": \"Smith\", \"year\": \"2025\", \"section\": \"Basses\", \"tags\": 10, \"tagged\": 7}, {\"firstName\": \"John\", \"lastName\": \"Jones\", \"year\": \"2023\", \"section\": \"Basses\", \"tags\": 28, \"tagged\": 2}, {\"firstName\": \"Alice\", \"lastName\": \"Wilson\", \"year\": \"2024\", \"section\": \"Basses\", \"tags\": 0, \"tagged\": 14}, {\"firstName\": \"Alice\", \"lastName\": \"Moore\", \"year\": \"2026\", \"section\": \"Basses\", \"tags\": 15, \"tagged\": 15}, {\"firstName\": \"Jim\", \"lastName\": \"Taylor\", \"year\": \"2023\", \"section\": \"Cymbals\", \"tags\": 19, \"tagged\": 17}, {\"firstName\": \"Mary\", \"lastName\": \"Moore\", \"year\": \"2024\", \"section\": \"Cymbals\", \"tags\": 26, \"tagged\": 22}, {\"firstName\": \"Bob\", \"lastName\": \"Brown\", \"year\": \"2025\", \"section\": \"Cymbals\", \"tags\": 25, \"tagged\": 22}, {\"firstName\": \"Mary\", \"lastName\": \"Brown\", \"year\": \"2025\", \"section\": \"Tenors\", \"tags\": 9, \"tagged\": 5}, {\"firstName\": \"Joe\", \"lastName\": \"Miller\", \"year\": \"2025\", \"section\": \"Snares\", \"tags\": 23, \"tagged\": 27}, {\"firstName\": \"Sue\", \"lastName\": \"Brown\", \"year\": \"2026\", \"section\": \"Tenors\", \"tags\": 27, \"tagged\": 21}, {\"firstName\": \"John\", \"lastName\": \"Jones\", \"year\": \"2024\", \"section\": \"Snares\", \"tags\": 0, \"tagged\": 1}, {\"firstName\": \"Jim\", \"lastName\": \"Moore\", \"year\": \"2026\", \"section\": \"Snares\", \"tags\": 7, \"tagged\": 14}, {\"firstName\": \"John\", \"lastName\": \"Taylor\", \"year\": \"2026\", \"section\": \"Cymbals\", \"tags\": 17, \"tagged\": 13}, {\"firstName\": \"Mary\", \"lastName\": \"Williams\", \"year\": \"2024\", \"section\": \"Tenors\", \"tags\": 8, \"tagged\": 1}, {\"firstName\": \"Alice\", \"lastName\": \"Davis\", \"year\": \"2024\", \"section\": \"Tenors\", \"tags\": 15, \"tagged\": 0}, {\"firstName\": \"Bill\", \"lastName\": \"Moore\", \"year\": \"2024\", \"section\": \"Tenors\", \"tags\": 17, \"tagged\": 1}, {\"firstName\": \"Bob\", \"lastName\": \"Smith\", \"year\": \"2023\", \"section\": \"Snares\", \"tags\": 20, \"tagged\": 3}, {\"firstName\": \"Tom\", \"lastName\": \"Smith\", \"year\": \"2026\", \"section\": \"Snares\", \"tags\": 22, \"tagged\": 13}, {\"firstName\": \"Jane\", \"lastName\": \"Jones\", \"year\": \"2026\", \"section\": \"Snares\", \"tags\": 2, \"tagged\": 9}, {\"firstName\": \"Bill\", \"lastName\": \"Brown\", \"year\": \"2026\", \"section\": \"Snares\", \"tags\": 20, \"tagged\": 26}, {\"firstName\": \"John\", \"lastName\": \"Brown\", \"year\": \"2025\", \"section\": \"Tenors\", \"tags\": 9, \"tagged\": 16}, {\"firstName\": \"Alice\", \"lastName\": \"Jones\", \"year\": \"2026\", \"section\": \"Tenors\", \"tags\": 28, \"tagged\": 14}, {\"firstName\": \"Tom\", \"lastName\": \"Wilson\", \"year\": \"2023\", \"section\": \"Cymbals\", \"tags\": 11, \"tagged\": 7}, {\"firstName\": \"Bob\", \"lastName\": \"Jones\", \"year\": \"2025\", \"section\": \"Snares\", \"tags\": 0, \"tagged\": 22}, {\"firstName\": \"Tom\", \"lastName\": \"Jones\", \"year\": \"2023\", \"section\": \"Tenors\", \"tags\": 17, \"tagged\": 23}, {\"firstName\": \"Mary\", \"lastName\": \"Jones\", \"year\": \"2024\", \"section\": \"Cymbals\", \"tags\": 20, \"tagged\": 21}]'"
      ]
     },
     "execution_count": 7,
     "metadata": {},
     "output_type": "execute_result"
    }
   ],
   "source": [
    "json.dumps(people)"
   ]
  },
  {
   "cell_type": "code",
   "execution_count": null,
   "metadata": {},
   "outputs": [],
   "source": []
  }
 ],
 "metadata": {
  "kernelspec": {
   "display_name": "Python 3",
   "language": "python",
   "name": "python3"
  },
  "language_info": {
   "codemirror_mode": {
    "name": "ipython",
    "version": 3
   },
   "file_extension": ".py",
   "mimetype": "text/x-python",
   "name": "python",
   "nbconvert_exporter": "python",
   "pygments_lexer": "ipython3",
   "version": "3.9.6"
  },
  "orig_nbformat": 4,
  "vscode": {
   "interpreter": {
    "hash": "aee8b7b246df8f9039afb4144a1f6fd8d2ca17a180786b69acc140d282b71a49"
   }
  }
 },
 "nbformat": 4,
 "nbformat_minor": 2
}
